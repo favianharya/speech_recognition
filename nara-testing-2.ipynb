{
 "cells": [
  {
   "cell_type": "markdown",
   "metadata": {},
   "source": [
    "# Speech-to-Text Pipeline Project\n",
    "\n",
    "## Introduction\n",
    "\n",
    "This project focuses on implementing a practical application that integrates speech-to-text, summarization, and translation functionalities. The goal is to create a working solution that effectively processes spoken language from audio files, provides a concise summary, and translates the summarized text into the target language.\n",
    "\n",
    "## Pipeline Workflow\n",
    "\n",
    "The pipeline consists of three main stages:\n",
    "\n",
    "1. **Speech-to-Text (WHISPER)**\n",
    "   - **Description:** Converts audio files into written text using the WHISPER model, known for its high accuracy in speech recognition.\n",
    "   - **Input:** Audio file (e.g., `.wav`, `.mp3`)\n",
    "   - **Output:** Transcribed text\n",
    "   \n",
    "   **Process:**\n",
    "   - The audio file is processed by the WHISPER model.\n",
    "   - The model outputs a text representation of the spoken content.\n",
    "\n",
    "2. **Summarization (BART)**\n",
    "   - **Description:** Generates a concise summary of the transcribed text using the BART model summarization techniques.\n",
    "   - **Input:** Transcribed text\n",
    "   - **Output:** Summarized text\n",
    "   \n",
    "   **Process:**\n",
    "   - The transcribed text is fed into the summarization model.\n",
    "   - The model generates a summary that captures the key points and essential information.\n",
    "\n",
    "3. **Translation**\n",
    "   - **Description:** Translates the summarized text into the target language using a translation model.\n",
    "   - **Input:** Summarized text\n",
    "   - **Output:** Translated text\n",
    "   \n",
    "   **Process:**\n",
    "   - The summarized text is translated into the desired language.\n",
    "   - The final translated text is produced for further use.\n",
    "\n",
    "## Authors\n",
    "\n",
    "This project was developed by the following students from the Data Science program at Binus University:\n",
    "\n",
    "- **Favian Harya Nandana Adrian** favian.adrian@binus.ac.id\n",
    "- **Narendra Nusantara Handradika**  narendra.handradika@binus.ac.id\n",
    "- **Ravael Daffa Hardjodipuro** ravael.hardjodipuro@binus.ac.id\n",
    "\n",
    "**Note:** This document provides an overview of the project's objectives and methodology. For technical details or implementation specifics, please refer to the project repository or contact the authors directly."
   ]
  }
 ],
 "metadata": {
  "kernelspec": {
   "display_name": "Python 3",
   "language": "python",
   "name": "python3"
  },
  "language_info": {
   "codemirror_mode": {
    "name": "ipython",
    "version": 3
   },
   "file_extension": ".py",
   "mimetype": "text/x-python",
   "name": "python",
   "nbconvert_exporter": "python",
   "pygments_lexer": "ipython3",
   "version": "3.11.9"
  }
 },
 "nbformat": 4,
 "nbformat_minor": 2
}
